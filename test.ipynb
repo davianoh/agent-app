{
 "cells": [
  {
   "cell_type": "code",
   "execution_count": 1,
   "metadata": {},
   "outputs": [],
   "source": [
    "from dotenv import load_dotenv\n",
    "import os\n",
    "\n",
    "load_dotenv()\n",
    "\n",
    "GEMINI_API_KEY = os.getenv(\"GEMINI_API_KEY\")"
   ]
  },
  {
   "cell_type": "code",
   "execution_count": 2,
   "metadata": {},
   "outputs": [
    {
     "name": "stdout",
     "output_type": "stream",
     "text": [
      "At its core, AI works by **mimicking human intelligence through algorithms and data**. Here's a brief breakdown:\n",
      "\n",
      "*   **Data is the Fuel:** AI systems learn from massive datasets, which can be images, text, numbers, etc.\n",
      "*   **Algorithms are the Recipe:** These are sets of rules or instructions that tell the AI how to process and analyze the data.\n",
      "*   **Training is the Learning Process:** The AI uses algorithms to identify patterns, make predictions, and improve its performance on tasks over time. This is often done through iterative processes where the AI adjusts its internal \"parameters\" to better fit the data.\n",
      "*   **Types of AI:**\n",
      "    *   **Machine Learning (ML):** A subset of AI where the system learns from data without being explicitly programmed.\n",
      "    *   **Deep Learning (DL):** A more advanced form of ML that uses artificial neural networks with multiple layers (hence \"deep\") to analyze complex data.\n",
      "\n",
      "In short, AI uses data and algorithms to learn and perform tasks that typically require human intelligence, like image recognition, language translation, and decision-making.\n",
      "\n"
     ]
    }
   ],
   "source": [
    "from google import genai\n",
    "\n",
    "client = genai.Client(api_key=GEMINI_API_KEY)\n",
    "\n",
    "response = client.models.generate_content(\n",
    "    model=\"gemini-2.0-flash-lite\",\n",
    "    contents=\"Explain briefly how AI works\",\n",
    ")\n",
    "\n",
    "print(response.text)"
   ]
  },
  {
   "cell_type": "code",
   "execution_count": null,
   "metadata": {},
   "outputs": [],
   "source": []
  }
 ],
 "metadata": {
  "kernelspec": {
   "display_name": ".venv",
   "language": "python",
   "name": "python3"
  },
  "language_info": {
   "codemirror_mode": {
    "name": "ipython",
    "version": 3
   },
   "file_extension": ".py",
   "mimetype": "text/x-python",
   "name": "python",
   "nbconvert_exporter": "python",
   "pygments_lexer": "ipython3",
   "version": "3.11.4"
  }
 },
 "nbformat": 4,
 "nbformat_minor": 2
}
