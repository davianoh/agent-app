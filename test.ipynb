{
 "cells": [
  {
   "cell_type": "code",
   "execution_count": 5,
   "metadata": {},
   "outputs": [],
   "source": [
    "from dotenv import load_dotenv\n",
    "import os\n",
    "\n",
    "load_dotenv()\n",
    "\n",
    "GEMINI_API_KEY = os.getenv(\"GEMINI_API_KEY\")"
   ]
  },
  {
   "cell_type": "code",
   "execution_count": 6,
   "metadata": {},
   "outputs": [
    {
     "name": "stdout",
     "output_type": "stream",
     "text": [
      "AI, or Artificial Intelligence, essentially works by **mimicking human intelligence processes through algorithms and data.**  Here's a simplified breakdown:\n",
      "\n",
      "*   **Data:** AI learns from vast amounts of data, which can be text, images, videos, or any other form of information.\n",
      "*   **Algorithms:**  These are sets of rules or instructions that tell the AI how to process the data.\n",
      "*   **Learning:** Through algorithms, AI identifies patterns, makes predictions, and learns from its mistakes, improving its performance over time. There are several types of learning, including:\n",
      "    *   **Supervised Learning:** AI is trained on labeled data (data with correct answers).\n",
      "    *   **Unsupervised Learning:** AI finds patterns in unlabeled data.\n",
      "    *   **Reinforcement Learning:** AI learns through trial and error, receiving rewards for correct actions and penalties for incorrect ones.\n",
      "*   **Decision Making:** Based on its learning, AI can then make decisions, solve problems, or perform tasks autonomously.\n",
      "\n",
      "In essence, AI uses data and algorithms to learn, adapt, and perform tasks that typically require human intelligence.\n",
      "\n"
     ]
    }
   ],
   "source": [
    "from google import genai\n",
    "\n",
    "client = genai.Client(api_key=GEMINI_API_KEY)\n",
    "\n",
    "response = client.models.generate_content(\n",
    "    model=\"gemini-2.0-flash\",\n",
    "    contents=\"Explain briefly how AI works\",\n",
    ")\n",
    "\n",
    "print(response.text)"
   ]
  },
  {
   "cell_type": "code",
   "execution_count": null,
   "metadata": {},
   "outputs": [],
   "source": []
  }
 ],
 "metadata": {
  "kernelspec": {
   "display_name": ".venv",
   "language": "python",
   "name": "python3"
  },
  "language_info": {
   "codemirror_mode": {
    "name": "ipython",
    "version": 3
   },
   "file_extension": ".py",
   "mimetype": "text/x-python",
   "name": "python",
   "nbconvert_exporter": "python",
   "pygments_lexer": "ipython3",
   "version": "3.11.4"
  }
 },
 "nbformat": 4,
 "nbformat_minor": 2
}
